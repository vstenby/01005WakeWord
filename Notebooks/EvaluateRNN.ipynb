{
 "cells": [
  {
   "cell_type": "code",
   "execution_count": 6,
   "metadata": {},
   "outputs": [],
   "source": [
    "import os\n",
    "# os.environ['CUDA_VISIBLE_DEVICES'] = \"0,1\"\n",
    "\n",
    "import numpy as np\n",
    "import pandas as pd\n",
    "\n",
    "#Import torch stuff.\n",
    "import torch\n",
    "import torch.nn as nn\n",
    "import torchaudio\n",
    "import torchaudio.transforms as T\n",
    "from torch.utils.data import Dataset, DataLoader\n",
    "import torch.optim as optim\n",
    "from torch.optim import lr_scheduler\n",
    "\n",
    "#pip install git+https://github.com/facebookresearch/WavAugment.git\n",
    "import augment\n",
    "\n",
    "import IPython.display as ipd\n",
    "import matplotlib.pyplot as plt\n",
    "\n",
    "from tqdm import trange, tqdm\n",
    "\n",
    "#Append the path outside so we can load bom1.\n",
    "import sys\n",
    "sys.path.append('..')\n",
    "\n",
    "import bom1.wakeword as wf\n",
    "import bom1.bom1 as bom1\n",
    "from   bom1.toolbox import WakewordDatasetRNN\n",
    "\n",
    "from sklearn.metrics import accuracy_score\n",
    "\n",
    "import os\n",
    "\n",
    "import pickle"
   ]
  },
  {
   "cell_type": "code",
   "execution_count": 7,
   "metadata": {},
   "outputs": [
    {
     "name": "stderr",
     "output_type": "stream",
     "text": [
      "\u001b[34m\u001b[1mwandb\u001b[0m: Currently logged in as: \u001b[33mrasgaard\u001b[0m (use `wandb login --relogin` to force relogin)\n"
     ]
    },
    {
     "data": {
      "text/html": [
       "\n",
       "                    Syncing run <strong><a href=\"https://wandb.ai/wakewordteam/RNN/runs/3ugstl75\" target=\"_blank\">trim-feather-8</a></strong> to <a href=\"https://wandb.ai/wakewordteam/RNN\" target=\"_blank\">Weights & Biases</a> (<a href=\"https://docs.wandb.com/integrations/jupyter.html\" target=\"_blank\">docs</a>).<br/>\n",
       "\n",
       "                "
      ],
      "text/plain": [
       "<IPython.core.display.HTML object>"
      ]
     },
     "metadata": {},
     "output_type": "display_data"
    },
    {
     "data": {
      "text/html": [
       "<button onClick=\"this.nextSibling.style.display='block';this.style.display='none';\">Display W&B run</button><iframe src=\"https://wandb.ai/wakewordteam/RNN/runs/3ugstl75?jupyter=true\" style=\"border:none;width:100%;height:420px;display:none;\"></iframe>"
      ],
      "text/plain": [
       "<wandb.sdk.wandb_run.Run at 0x7fea64507630>"
      ]
     },
     "execution_count": 7,
     "metadata": {},
     "output_type": "execute_result"
    }
   ],
   "source": [
    "import wandb\n",
    "\n",
    "lr = 3e-5\n",
    "nepoch = 200\n",
    "batch_size = 256\n",
    "\n",
    "config = {\n",
    "  \"learning_rate\": lr,\n",
    "  \"epochs\": nepoch,\n",
    "  \"batch_size\": batch_size\n",
    "}\n",
    "\n",
    "wandb.init(project=\"RNN\", entity=\"wakewordteam\", config=config)"
   ]
  },
  {
   "cell_type": "code",
   "execution_count": 8,
   "metadata": {},
   "outputs": [
    {
     "name": "stdout",
     "output_type": "stream",
     "text": [
      "This notebook is running on the cpu.\n"
     ]
    }
   ],
   "source": [
    "#Set the notebook to run on the GPU, if available.\n",
    "device = torch.device('cuda' if torch.cuda.is_available() else 'cpu')\n",
    "\n",
    "print(f'This notebook is running on the {device.type}.')"
   ]
  },
  {
   "cell_type": "code",
   "execution_count": 9,
   "metadata": {},
   "outputs": [],
   "source": [
    "folder = '/work3/s164419/01005WakeWordData/RNN_data_10s_shift_5s_1_to_1/train/'\n",
    "train_dataset = WakewordDatasetRNN(f=lambda x: T.AmplitudeToDB()(T.Spectrogram(hop_length=40)(x)), folder=folder, normalize=True, #normalize the audio when reading it with torchaudio. \n",
    "                                              transforms = [#wf.AudioAugment(reverb = 100, snr = 15, pitch = 150, p = [0.5, 0.5, 0.5]),\n",
    "                                              wf.TransformMono(), \n",
    "                                              wf.Padder(22050*10)],\n",
    "                                              target_length = 1375\n",
    "                                              ) #sr * length of the clip\n",
    "\n",
    "folder = '/work3/s164419/01005WakeWordData/RNN_data_10s_shift_5s_1_to_1/val/'\n",
    "val_dataset = WakewordDatasetRNN(f=lambda x: T.AmplitudeToDB()(T.Spectrogram(hop_length=40)(x)), folder=folder, normalize=True, #normalize the audio when reading it with torchaudio. \n",
    "                                              transforms = [#wf.AudioAugment(reverb = 100, snr = 15, pitch = 150, p = [0.5, 0.5, 0.5]),\n",
    "                                              wf.TransformMono(), \n",
    "                                              wf.Padder(22050*10)],\n",
    "                                              target_length = 1375\n",
    "                                              ) #sr * length of the clip\n",
    "\n",
    "folder = '/work3/s164419/01005WakeWordData/RNN_data_10s_shift_5s_1_to_1/test/'\n",
    "test_dataset = WakewordDatasetRNN(f=lambda x: T.AmplitudeToDB()(T.Spectrogram(hop_length=40)(x)), folder=folder, normalize=True, #normalize the audio when reading it with torchaudio. \n",
    "                                              transforms = [#wf.AudioAugment(reverb = 100, snr = 15, pitch = 150, p = [0.5, 0.5, 0.5]),\n",
    "                                              wf.TransformMono(), \n",
    "                                              wf.Padder(22050*10)],\n",
    "                                              target_length = 1375\n",
    "                                              ) #sr * length of the clip\n",
    "\n",
    "\n",
    "train_loader = DataLoader(train_dataset, shuffle=True, batch_size=batch_size)\n",
    "val_loader = DataLoader(val_dataset, shuffle=True, batch_size=batch_size)\n",
    "test_loader = DataLoader(test_dataset, shuffle=True, batch_size=batch_size)"
   ]
  },
  {
   "cell_type": "code",
   "execution_count": 10,
   "metadata": {},
   "outputs": [],
   "source": [
    "from bom1.models import RNN_V1\n",
    "\n",
    "rnn = RNN_V1().to(device)\n",
    "criterion = nn.BCEWithLogitsLoss(pos_weight = torch.Tensor([20]).to(device))\n",
    "optimizer = optim.Adam(rnn.parameters(), lr=lr)"
   ]
  },
  {
   "cell_type": "code",
   "execution_count": 17,
   "metadata": {},
   "outputs": [],
   "source": [
    "with torch.no_grad():\n",
    "    rnn.load_state_dict(torch.load('../saved_models/RNN_V1/model.pth', map_location=device))\n",
    "\n",
    "x, targets, paths = next(iter(val_loader))\n",
    "outputs = rnn(x).squeeze()"
   ]
  },
  {
   "cell_type": "code",
   "execution_count": 70,
   "metadata": {},
   "outputs": [
    {
     "data": {
      "text/plain": [
       "[<matplotlib.lines.Line2D at 0x7fea21802c50>]"
      ]
     },
     "execution_count": 70,
     "metadata": {},
     "output_type": "execute_result"
    },
    {
     "data": {
      "image/png": "[encoded data removed]",
      "text/plain": [
       "<Figure size 432x288 with 1 Axes>"
      ]
     },
     "metadata": {
      "needs_background": "light"
     },
     "output_type": "display_data"
    }
   ],
   "source": [
    "idx = 7\n",
    "\n",
    "plt.plot(range(1375), (torch.sigmoid(outputs[idx]) > .75).detach())\n",
    "plt.plot(range(1375), targets[idx].detach())"
   ]
  },
  {
   "cell_type": "code",
   "execution_count": 69,
   "metadata": {},
   "outputs": [
    {
     "data": {
      "text/plain": [
       "torch.Size([1375])"
      ]
     },
     "execution_count": 69,
     "metadata": {},
     "output_type": "execute_result"
    }
   ],
   "source": [
    "prediction = (torch.sigmoid(outputs[idx]) > .75)\n",
    "prediction"
   ]
  },
  {
   "cell_type": "code",
   "execution_count": 67,
   "metadata": {},
   "outputs": [
    {
     "data": {
      "text/plain": [
       "tensor([[109],\n",
       "        [110],\n",
       "        [111],\n",
       "        [112],\n",
       "        [113],\n",
       "        [114],\n",
       "        [676],\n",
       "        [677],\n",
       "        [678]])"
      ]
     },
     "execution_count": 67,
     "metadata": {},
     "output_type": "execute_result"
    }
   ],
   "source": [
    "prediction"
   ]
  },
  {
   "cell_type": "code",
   "execution_count": 64,
   "metadata": {},
   "outputs": [],
   "source": [
    "target = targets[idx].nonzero().squeeze()"
   ]
  },
  {
   "cell_type": "code",
   "execution_count": 71,
   "metadata": {},
   "outputs": [
    {
     "ename": "ImportError",
     "evalue": "cannot import name 'jaccard_similarity_score'",
     "output_type": "error",
     "traceback": [
      "\u001b[0;31m---------------------------------------------------------------------------\u001b[0m",
      "\u001b[0;31mImportError\u001b[0m                               Traceback (most recent call last)",
      "\u001b[0;32m<ipython-input-71-767e497a7eeb>\u001b[0m in \u001b[0;36m<module>\u001b[0;34m\u001b[0m\n\u001b[0;32m----> 1\u001b[0;31m \u001b[0;32mfrom\u001b[0m \u001b[0msklearn\u001b[0m\u001b[0;34m.\u001b[0m\u001b[0mmetrics\u001b[0m \u001b[0;32mimport\u001b[0m \u001b[0mjaccard_similarity_score\u001b[0m\u001b[0;34m\u001b[0m\u001b[0;34m\u001b[0m\u001b[0m\n\u001b[0m\u001b[1;32m      2\u001b[0m \u001b[0mjaccard_score\u001b[0m\u001b[0;34m(\u001b[0m\u001b[0mprediction\u001b[0m\u001b[0;34m,\u001b[0m \u001b[0mtarget\u001b[0m\u001b[0;34m)\u001b[0m\u001b[0;34m\u001b[0m\u001b[0;34m\u001b[0m\u001b[0m\n",
      "\u001b[0;31mImportError\u001b[0m: cannot import name 'jaccard_similarity_score'"
     ]
    }
   ],
   "source": [
    "from sklearn.metrics import jaccard_score\n",
    "jaccard_score(prediction, target)"
   ]
  },
  {
   "cell_type": "code",
   "execution_count": null,
   "metadata": {},
   "outputs": [],
   "source": [
    "def get_metrics(prediction, target):\n",
    "    prediction_threshold = (prediction > 0.75)\n"
   ]
  },
  {
   "cell_type": "code",
   "execution_count": null,
   "metadata": {},
   "outputs": [],
   "source": [
    "train_losses = []\n",
    "val_losses   = []\n",
    "\n",
    "for epoch in tqdm(range(nepoch), total=nepoch, desc='Epoch'):\n",
    "    \n",
    "    train_loss = 0\n",
    "    val_loss   = 0\n",
    "    \n",
    "    for data in train_loader:\n",
    "        #Reset the gradients.\n",
    "        optimizer.zero_grad()\n",
    "\n",
    "        #Fetch the data\n",
    "        x, targets, path = data\n",
    "\n",
    "        x = x.to(device)\n",
    "        targets = targets.to(device)\n",
    "        #Forward pass\n",
    "        outputs = rnn(x).squeeze(-1)\n",
    "\n",
    "        #Calculate the loss\n",
    "        loss = criterion(outputs, targets) #BCE Loss.\n",
    "        \n",
    "        loss.backward()\n",
    "        optimizer.step()\n",
    "\n",
    "        contains_phrase = targets.any(dim=1)\n",
    "\n",
    "        train_loss += loss.item()\n",
    "\n",
    "    with torch.no_grad():\n",
    "        for data in val_loader:\n",
    "            #Fetch the data\n",
    "            x, targets, path = data\n",
    "            x = x.to(device)\n",
    "            targets = targets.to(device)\n",
    "            \n",
    "            #Forward pass\n",
    "            outputs = rnn(x).squeeze(-1)\n",
    "            \n",
    "            loss = criterion(outputs, targets) #BCE Loss.\n",
    "            \n",
    "            val_loss += loss.item()\n",
    "            \n",
    "    #Find the average batch loss.\n",
    "    train_loss = train_loss / len(train_loader)\n",
    "    val_loss   = val_loss / len(val_loader)\n",
    "    \n",
    "    #Append the training loss and the validation loss.\n",
    "    train_losses.append(train_loss)\n",
    "    val_losses.append(val_loss)\n",
    "\n",
    "    wandb.log({'val_loss': val_loss,'train_loss': train_loss})\n",
    "\n",
    "    torch.save(rnn.state_dict(), os.path.join('./saved_models/RNN_V1', 'model2.pth'))\n",
    "    \n",
    "    print(f'[{epoch}] Train loss: {train_loss}, Val loss: {val_loss}')"
   ]
  }
 ],
 "metadata": {
  "interpreter": {
   "hash": "50fd61b4ba0bc6d9fddaa9c6d1b42a79e1f6c82c11b4840c107fc501d8d17b12"
  },
  "kernelspec": {
   "display_name": "Python 3.6.13 64-bit ('venv': venv)",
   "name": "python3"
  },
  "language_info": {
   "codemirror_mode": {
    "name": "ipython",
    "version": 3
   },
   "file_extension": ".py",
   "mimetype": "text/x-python",
   "name": "python",
   "nbconvert_exporter": "python",
   "pygments_lexer": "ipython3",
   "version": "3.6.13"
  },
  "orig_nbformat": 4
 },
 "nbformat": 4,
 "nbformat_minor": 2
}
