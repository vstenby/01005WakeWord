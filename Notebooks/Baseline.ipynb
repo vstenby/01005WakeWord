{
 "cells": [
  {
   "cell_type": "markdown",
   "metadata": {},
   "source": [
    "# Baseline Notebook"
   ]
  },
  {
   "cell_type": "markdown",
   "metadata": {},
   "source": [
    "# Dependencies"
   ]
  },
  {
   "cell_type": "code",
   "execution_count": 1,
   "metadata": {},
   "outputs": [],
   "source": [
    "import numpy as np\n",
    "import os\n",
    "\n",
    "#Import torch stuff.\n",
    "import torch\n",
    "import torch.nn as nn\n",
    "import torchaudio\n",
    "import torchaudio.transforms as T\n",
    "from torch.utils.data import Dataset, DataLoader\n",
    "import torch.optim as optim\n",
    "\n",
    "#Append the path outside so we can load bom1.\n",
    "import sys\n",
    "sys.path.append('..')\n",
    "\n",
    "import bom1.wakeword as wf\n",
    "import bom1.bom1 as bom1\n",
    "\n",
    "import matplotlib.pyplot as plt\n",
    "from tqdm import tqdm"
   ]
  },
  {
   "cell_type": "markdown",
   "metadata": {},
   "source": [
    "Set the training path."
   ]
  },
  {
   "cell_type": "code",
   "execution_count": 2,
   "metadata": {},
   "outputs": [],
   "source": [
    "train_path  = '/work3/s164419/01005WakeWordData/1_to_5_1s_train/train/'\n",
    "train_files = [os.path.join(train_path, x) for x in os.listdir(train_path) if x.endswith('.wav')]"
   ]
  },
  {
   "cell_type": "markdown",
   "metadata": {},
   "source": [
    "Set the validation path."
   ]
  },
  {
   "cell_type": "code",
   "execution_count": 3,
   "metadata": {},
   "outputs": [],
   "source": [
    "val_path  = '/work3/s164419/01005WakeWordData/every50_1s_val_test/val'\n",
    "val_files = [os.path.join(val_path, x) for x in os.listdir(val_path) if x.endswith('.wav')]"
   ]
  },
  {
   "cell_type": "code",
   "execution_count": 4,
   "metadata": {},
   "outputs": [],
   "source": [
    "#Set the functions for loading the data.\n",
    "_, _, spectrogram = wf.load_data(train_files[0], f = T.Spectrogram(hop_length=40), normalize=True, transforms=[wf.TransformMono(), wf.Padder(22050)])\n",
    "\n",
    "#Flatten the spectrogram\n",
    "spectrogram = spectrogram.flatten().numpy()\n",
    "\n",
    "X_train = np.zeros(shape=(len(train_files), len(spectrogram)))\n",
    "y_train = np.zeros(shape=len(train_files))"
   ]
  },
  {
   "cell_type": "code",
   "execution_count": 8,
   "metadata": {},
   "outputs": [
    {
     "name": "stderr",
     "output_type": "stream",
     "text": [
      "Loading training:  86%|████████▋ | 21976/25454 [04:13<00:39, 88.31it/s]"
     ]
    }
   ],
   "source": [
    "for i, path in tqdm(enumerate(train_files), desc='Loading training', total=len(train_files)):\n",
    "    _, _, spectrogram = wf.load_data(path, f = T.Spectrogram(hop_length=40), normalize=True, transforms=[wf.TransformMono(), wf.Padder(22050)])\n",
    "    \n",
    "    #Flatten and convert to numpy\n",
    "    spectrogram = spectrogram.flatten().numpy().astype('float16')\n",
    "\n",
    "    X_train[i,:] = spectrogram\n",
    "    \n",
    "    #Extract the target\n",
    "    _, _, _, target = wf.info_from_path(path)\n",
    "\n",
    "    y_train[i] = target"
   ]
  },
  {
   "cell_type": "code",
   "execution_count": null,
   "metadata": {},
   "outputs": [],
   "source": [
    "from sklearn.model_selection import train_test_split\n",
    "from sklearn.linear_model import LogisticRegression\n",
    "from sklearn.metrics import classification_report, plot_confusion_matrix\n",
    "from sklearn.pipeline import Pipeline\n",
    "from sklearn.neural_network import MLPClassifier\n",
    "from sklearn.preprocessing import StandardScaler"
   ]
  },
  {
   "cell_type": "code",
   "execution_count": null,
   "metadata": {},
   "outputs": [],
   "source": [
    "pipe = Pipeline([('LogisticRegression', LogisticRegression(n_jobs=-1))])\n",
    "pipe.fit(X_train, y_train)"
   ]
  }
 ],
 "metadata": {
  "interpreter": {
   "hash": "b50eceb0768b1454027df4f4199df5718a34c6c073f9cc295c3e51140d4a719f"
  },
  "kernelspec": {
   "display_name": "Python 3.8.4 64-bit ('venv': venv)",
   "language": "python",
   "name": "python3"
  },
  "language_info": {
   "codemirror_mode": {
    "name": "ipython",
    "version": 3
   },
   "file_extension": ".py",
   "mimetype": "text/x-python",
   "name": "python",
   "nbconvert_exporter": "python",
   "pygments_lexer": "ipython3",
   "version": "3.8.4"
  },
  "orig_nbformat": 4
 },
 "nbformat": 4,
 "nbformat_minor": 2
}
