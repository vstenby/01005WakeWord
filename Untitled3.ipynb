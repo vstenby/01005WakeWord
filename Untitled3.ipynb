{
 "cells": [
  {
   "cell_type": "markdown",
   "id": "eda9fb6c-bf55-4f1d-b405-c9e94d04eb48",
   "metadata": {},
   "source": [
    "# Downloader - rewrite"
   ]
  },
  {
   "cell_type": "code",
   "execution_count": 1,
   "id": "aa1ad8e8-d21d-4e7e-8b0f-baa638c1ec23",
   "metadata": {},
   "outputs": [],
   "source": [
    "import pandas as pd\n",
    "import numpy  as np\n",
    "\n",
    "import wakeword_functions as wf\n",
    "import tqdm.auto as tqdm"
   ]
  },
  {
   "cell_type": "code",
   "execution_count": 2,
   "id": "c0142862-8c45-4560-b097-8a67dd3032cc",
   "metadata": {},
   "outputs": [
    {
     "data": {
      "application/vnd.jupyter.widget-view+json": {
       "model_id": "f59473c37aa74709998d252b49ba29cc",
       "version_major": 2,
       "version_minor": 0
      },
      "text/plain": [
       "Generating new clips for train:   0%|          | 0/298 [00:00<?, ?it/s]"
      ]
     },
     "metadata": {},
     "output_type": "display_data"
    },
    {
     "data": {
      "application/vnd.jupyter.widget-view+json": {
       "model_id": "4ed35dc3cd8240759d5dc6c558bdd5e4",
       "version_major": 2,
       "version_minor": 0
      },
      "text/plain": [
       "Generating new clips for val:   0%|          | 0/48 [00:00<?, ?it/s]"
      ]
     },
     "metadata": {},
     "output_type": "display_data"
    },
    {
     "data": {
      "application/vnd.jupyter.widget-view+json": {
       "model_id": "134ad52f35124638ac41b918c9049e44",
       "version_major": 2,
       "version_minor": 0
      },
      "text/plain": [
       "Generating new clips for test:   0%|          | 0/75 [00:00<?, ?it/s]"
      ]
     },
     "metadata": {},
     "output_type": "display_data"
    }
   ],
   "source": [
    "train, val, test = wf.get_balanced_splits(balance='1:20', seed=42)"
   ]
  },
  {
   "cell_type": "code",
   "execution_count": null,
   "id": "8e3c4f0e-8fd2-4cb2-83a9-c3ede84ace39",
   "metadata": {},
   "outputs": [
    {
     "data": {
      "application/vnd.jupyter.widget-view+json": {
       "model_id": "a9fa129d723c4bcf92ab863e7863b6d0",
       "version_major": 2,
       "version_minor": 0
      },
      "text/plain": [
       "Clipping train:   0%|          | 0/91014 [00:00<?, ?it/s]"
      ]
     },
     "metadata": {},
     "output_type": "display_data"
    },
    {
     "name": "stderr",
     "output_type": "stream",
     "text": [
      "[https @ 0x7206680] Stream ends prematurely at 417064, should be 295218998\n",
      "    Last message repeated 1 times\n",
      "[mov,mp4,m4a,3gp,3g2,mj2 @ 0x7205d80] stream 0, contradictionary STSC and STCO\n",
      "[mov,mp4,m4a,3gp,3g2,mj2 @ 0x7205d80] error reading header\n",
      "https://dchsou11xk84p.cloudfront.net/p/201/sp/20100/playManifest/entryId/0_0oig7u4r/format/url/protocol/https: Invalid data found when processing input\n",
      "[https @ 0x6e14680] Stream ends prematurely at 417064, should be 295218998\n",
      "    Last message repeated 1 times\n",
      "[mov,mp4,m4a,3gp,3g2,mj2 @ 0x6e13d80] stream 0, contradictionary STSC and STCO\n",
      "[mov,mp4,m4a,3gp,3g2,mj2 @ 0x6e13d80] error reading header\n",
      "https://dchsou11xk84p.cloudfront.net/p/201/sp/20100/playManifest/entryId/0_0oig7u4r/format/url/protocol/https: Invalid data found when processing input\n",
      "[https @ 0x683a680] Stream ends prematurely at 2156902, should be 636182172\n",
      "[mov,mp4,m4a,3gp,3g2,mj2 @ 0x6839d80] error reading header\n",
      "https://dchsou11xk84p.cloudfront.net/p/201/sp/20100/playManifest/entryId/0_1yrye84n/format/url/protocol/https: End of file\n"
     ]
    }
   ],
   "source": [
    "wf.download_splits(folder='1_to_20', train=train, val=val, test=test)"
   ]
  }
 ],
 "metadata": {
  "kernelspec": {
   "display_name": "Python 3 (ipykernel)",
   "language": "python",
   "name": "python3"
  },
  "language_info": {
   "codemirror_mode": {
    "name": "ipython",
    "version": 3
   },
   "file_extension": ".py",
   "mimetype": "text/x-python",
   "name": "python",
   "nbconvert_exporter": "python",
   "pygments_lexer": "ipython3",
   "version": "3.8.4"
  }
 },
 "nbformat": 4,
 "nbformat_minor": 5
}
