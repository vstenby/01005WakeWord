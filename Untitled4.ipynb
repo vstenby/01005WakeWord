{
 "cells": [
  {
   "cell_type": "code",
   "execution_count": null,
   "id": "517d3900-d921-4707-9161-8cda5053aff1",
   "metadata": {},
   "outputs": [],
   "source": [
    "!pip install ."
   ]
  },
  {
   "cell_type": "code",
   "execution_count": null,
   "id": "35effe8a-f9aa-4e39-9558-852d1559759b",
   "metadata": {},
   "outputs": [],
   "source": [
    "!cd "
   ]
  },
  {
   "cell_type": "code",
   "execution_count": null,
   "id": "14a4cec5-4b98-4b7c-b23c-9c1c3e6ddede",
   "metadata": {},
   "outputs": [],
   "source": [
    "import pyexample"
   ]
  },
  {
   "cell_type": "code",
   "execution_count": null,
   "id": "9bfebdad-b4ad-4c03-b974-0babffdeb0ec",
   "metadata": {},
   "outputs": [],
   "source": [
    "pyexample.__author__"
   ]
  },
  {
   "cell_type": "code",
   "execution_count": null,
   "id": "911231f7-4ba7-422e-b839-9a0e8d2883c4",
   "metadata": {},
   "outputs": [],
   "source": [
    "from pyexample import *"
   ]
  },
  {
   "cell_type": "code",
   "execution_count": null,
   "id": "28e91553-5987-4bb6-bc38-3ffb0ba73837",
   "metadata": {},
   "outputs": [],
   "source": [
    "load_data()"
   ]
  },
  {
   "cell_type": "code",
   "execution_count": null,
   "id": "23269a64-e4c4-4084-b5b8-78340bf55910",
   "metadata": {},
   "outputs": [],
   "source": [
    "pyexample.__package__"
   ]
  },
  {
   "cell_type": "code",
   "execution_count": null,
   "id": "ab88f9b3-3a0a-4ea6-a52b-a76356bb99cb",
   "metadata": {},
   "outputs": [],
   "source": [
    "import funniest"
   ]
  },
  {
   "cell_type": "code",
   "execution_count": null,
   "id": "7644503f-9ccd-446a-b87c-9ddeeaf3f74b",
   "metadata": {},
   "outputs": [],
   "source": [
    "dir(funniest)"
   ]
  },
  {
   "cell_type": "code",
   "execution_count": null,
   "id": "151c8dac-4f97-472d-ba59-ca1badba1b94",
   "metadata": {},
   "outputs": [],
   "source": [
    "funniest.joke()"
   ]
  },
  {
   "cell_type": "code",
   "execution_count": 1,
   "id": "11b00a29-d4cc-4af9-ae23-02cb041b0096",
   "metadata": {},
   "outputs": [],
   "source": [
    "import mynamespace"
   ]
  },
  {
   "cell_type": "code",
   "execution_count": 2,
   "id": "a26644f8-9481-42de-9e89-df5580468297",
   "metadata": {},
   "outputs": [
    {
     "data": {
      "text/plain": [
       "['__builtins__',\n",
       " '__cached__',\n",
       " '__doc__',\n",
       " '__file__',\n",
       " '__loader__',\n",
       " '__name__',\n",
       " '__package__',\n",
       " '__path__',\n",
       " '__spec__']"
      ]
     },
     "execution_count": 2,
     "metadata": {},
     "output_type": "execute_result"
    }
   ],
   "source": [
    "dir(mynamespace)"
   ]
  },
  {
   "cell_type": "code",
   "execution_count": 4,
   "id": "64b0df0e-b76b-4fb5-8f74-a6c139ab0674",
   "metadata": {},
   "outputs": [
    {
     "data": {
      "text/plain": [
       "'/zhome/55/f/127565/Desktop/01005WakeWord/venv/lib/python3.8/site-packages/mynamespace/__init__.py'"
      ]
     },
     "execution_count": 4,
     "metadata": {},
     "output_type": "execute_result"
    }
   ],
   "source": [
    "mynamespace.__file__"
   ]
  },
  {
   "cell_type": "code",
   "execution_count": null,
   "id": "e747a696-2d1f-4e4d-bd1c-d043b7c8de8a",
   "metadata": {},
   "outputs": [],
   "source": []
  }
 ],
 "metadata": {
  "kernelspec": {
   "display_name": "Python 3 (ipykernel)",
   "language": "python",
   "name": "python3"
  },
  "language_info": {
   "codemirror_mode": {
    "name": "ipython",
    "version": 3
   },
   "file_extension": ".py",
   "mimetype": "text/x-python",
   "name": "python",
   "nbconvert_exporter": "python",
   "pygments_lexer": "ipython3",
   "version": "3.8.4"
  }
 },
 "nbformat": 4,
 "nbformat_minor": 5
}
