{
 "cells": [
  {
   "cell_type": "markdown",
   "id": "a1974d81-f894-4a26-a894-4a12fc6a82da",
   "metadata": {},
   "source": [
    "# Data Exploration"
   ]
  },
  {
   "cell_type": "code",
   "execution_count": 1,
   "id": "843c34de-6eac-423e-988a-0b805d740c6b",
   "metadata": {},
   "outputs": [],
   "source": [
    "import numpy as np\n",
    "import pandas as pd\n",
    "\n",
    "import bom1.bom1 as bom1\n",
    "import bom1.wakeword as wf\n",
    "\n",
    "import torch\n",
    "import torchaudio\n",
    "import torchaudio.transforms as T\n",
    "import os\n",
    "\n",
    "import IPython.display as ipd"
   ]
  },
  {
   "cell_type": "code",
   "execution_count": null,
   "id": "cf4fe8f0-0f7f-4bfd-9f99-05b7a2eeee7e",
   "metadata": {},
   "outputs": [],
   "source": [
    "train, _, _ = wf.get_balanced_splits(balance='every25', splits=['train'], cliplength=1)"
   ]
  },
  {
   "cell_type": "code",
   "execution_count": null,
   "id": "7445fa04-c2f7-4e0d-b215-832e7b021db7",
   "metadata": {},
   "outputs": [],
   "source": [
    "path = [os.path.join('/work3/s164419/01005WakeWordData/lectures', f'{x}.wav') for x in train['ID'].tolist()]"
   ]
  },
  {
   "cell_type": "code",
   "execution_count": 2,
   "id": "09d363d1-1052-4bac-9fcc-99d8f5fbd707",
   "metadata": {},
   "outputs": [
    {
     "name": "stderr",
     "output_type": "stream",
     "text": [
      "Generating negative classes for train: 100%|███████████████████████| 290/290 [00:06<00:00, 44.60it/s]\n",
      "Generating negative classes for val: 100%|███████████████████████████| 47/47 [00:01<00:00, 31.50it/s]\n",
      "Generating negative classes for test: 100%|██████████████████████████| 73/73 [00:01<00:00, 47.90it/s]\n"
     ]
    }
   ],
   "source": [
    "train, val, test = wf.get_balanced_splits(balance='1:1', splits=['train', 'val', 'test'], cliplength=1)"
   ]
  },
  {
   "cell_type": "code",
   "execution_count": 6,
   "id": "9c32e13b-bc30-4fce-b3f6-8cbd0f6ae44a",
   "metadata": {},
   "outputs": [
    {
     "data": {
      "text/plain": [
       "9.040105193951349e-05"
      ]
     },
     "execution_count": 6,
     "metadata": {},
     "output_type": "execute_result"
    }
   ],
   "source": [
    "1.1 / (train.shape[0] + val.shape[0] + test.shape[0])"
   ]
  },
  {
   "cell_type": "code",
   "execution_count": 10,
   "id": "5a929498-94fe-4d2f-963d-1ccd756a8ee8",
   "metadata": {},
   "outputs": [
    {
     "name": "stderr",
     "output_type": "stream",
     "text": [
      "Generating negative classes for train: 100%|███████████████████████| 290/290 [00:09<00:00, 29.10it/s]\n",
      "Generating negative classes for val: 100%|███████████████████████████| 47/47 [00:01<00:00, 28.27it/s]\n"
     ]
    }
   ],
   "source": [
    "train, val, test = wf.get_balanced_splits(balance='every50', splits=['train', 'val'], cliplength=1)"
   ]
  },
  {
   "cell_type": "code",
   "execution_count": 11,
   "id": "8b38c6da-1384-4211-8e16-7f803c6a8707",
   "metadata": {},
   "outputs": [
    {
     "data": {
      "text/plain": [
       "154.56798980933598"
      ]
     },
     "execution_count": 11,
     "metadata": {},
     "output_type": "execute_result"
    }
   ],
   "source": [
    "9.040105193951349e-05 * (train.shape[0] + val.shape[0])"
   ]
  },
  {
   "cell_type": "code",
   "execution_count": null,
   "id": "d945c8cf-d8ab-4ead-9bcc-c6187732cee0",
   "metadata": {},
   "outputs": [],
   "source": [
    "path = '/work3/s164419/01005WakeWordData/wup/train/'\n",
    "path += os.listdir('/work3/s164419/01005WakeWordData/wup/train/')[0]\n",
    "\n",
    "transforms = [wf.TransformMono(), wf.Padder(22050)]\n",
    "\n",
    "%timeit wf.load_data(path, f = T.Spectrogram(), transforms = transforms, normalize = True, t1 = 0, t2 = 1)"
   ]
  },
  {
   "cell_type": "code",
   "execution_count": null,
   "id": "15ab25cc-709f-4c84-9dee-cb4aba871c86",
   "metadata": {},
   "outputs": [],
   "source": [
    "lectures = '/work3/s164419/01005WakeWordData/lectures/'\n",
    "#full_paths = [os.path.join(lectures, x) for x in os.listdir(lectures)]"
   ]
  },
  {
   "cell_type": "code",
   "execution_count": null,
   "id": "57ad1227-de57-4e44-b120-21c0aa6337dc",
   "metadata": {},
   "outputs": [],
   "source": [
    "t1, t2, ID = train['t1'].iloc[0], train['t2'].iloc[0], train['ID'].iloc[0]\n",
    "path = os.path.join(lectures, f'{ID}.wav')\n",
    "audio, sr, x = wf.load_data(path, f = T.Spectrogram(), transforms = transforms, normalize = True, t1 = t1, t2 = t2)"
   ]
  },
  {
   "cell_type": "code",
   "execution_count": null,
   "id": "5950e739-f787-4b54-a652-3335fdee3696",
   "metadata": {},
   "outputs": [],
   "source": [
    "ipd.Audio(audio, rate=sr)"
   ]
  },
  {
   "cell_type": "code",
   "execution_count": null,
   "id": "c9332ce4-d021-4432-b461-c2003cce6137",
   "metadata": {},
   "outputs": [],
   "source": [
    "a = None\n",
    "b = None\n",
    "\n",
    "assert not ((a is None) and (b is None)), 'Both a and b cannot be none.'"
   ]
  },
  {
   "cell_type": "markdown",
   "id": "50411794-d3d5-4f25-b5e1-0f2b10a6c4fd",
   "metadata": {},
   "source": [
    "# Dataset"
   ]
  },
  {
   "cell_type": "code",
   "execution_count": null,
   "id": "96150382-ea13-4b25-b9a3-b829032ac575",
   "metadata": {},
   "outputs": [],
   "source": [
    "from torch.utils.data import Dataset, DataLoader"
   ]
  },
  {
   "cell_type": "code",
   "execution_count": null,
   "id": "86374084-3124-418f-9b4c-497e94c05533",
   "metadata": {},
   "outputs": [],
   "source": [
    "class WakewordDataset(Dataset):\n",
    "    '''\n",
    "    Construct a dataset with sound files.\n",
    "    '''\n",
    "    \n",
    "    def __init__(self, folder, f, transforms=None, sr = 22050, normalize = False):\n",
    "        #f is the function that takes audio and returns the spectrogram.\n",
    "        \n",
    "        self.paths  = [os.path.join(folder, x) for x in os.listdir(folder)]\n",
    "        \n",
    "        folderinfo  = [wf.info_from_path(x) for x in os.listdir(folder)] #Already here, it's shuffled.\n",
    "        self.ID, self.t1, self.t2, self.target = [x[0] for x in folderinfo], [x[1] for x in folderinfo], [x[2] for x in folderinfo], [x[3] for x in folderinfo]\n",
    "        \n",
    "        self.transforms = transforms\n",
    "        self.f          = f\n",
    "        self.normalize  = normalize\n",
    "        \n",
    "        return\n",
    "        \n",
    "    def __len__(self):\n",
    "        return len(self.paths)\n",
    "    \n",
    "    def __getitem__(self, idx):\n",
    "        path            = self.paths[idx]\n",
    "        audio, sr, x    = wf.load_data(path, f = self.f, transforms=self.transforms, normalize=self.normalize)\n",
    "        target          = self.target[idx]\n",
    "        ID              = self.ID[idx] \n",
    "        return audio, sr, x, target, path"
   ]
  },
  {
   "cell_type": "code",
   "execution_count": null,
   "id": "a941d45a-96d0-47bb-9687-58801461c983",
   "metadata": {},
   "outputs": [],
   "source": [
    "train_dataset = WakewordDataset(folder='./1_to_1/train/',\n",
    "                                f = T.Spectrogram(), \n",
    "                                normalize=True, #normalize the audio when reading it with torchaudio.\n",
    "                                transforms = [wf.AudioAugment(reverb = 100, snr = 15, pitch = 150, p = [0.5, 0.5, 0.5]),\n",
    "                                              wf.TransformMono(), \n",
    "                                              wf.Padder(44000)]\n",
    "                               )"
   ]
  },
  {
   "cell_type": "code",
   "execution_count": null,
   "id": "91aaed19-183e-44b3-9aa0-9663da082f5b",
   "metadata": {},
   "outputs": [],
   "source": [
    "train_dataset.__getitem__(0)"
   ]
  },
  {
   "cell_type": "code",
   "execution_count": null,
   "id": "e9263ac6-cf48-412b-9cd8-040e0354fae9",
   "metadata": {},
   "outputs": [],
   "source": [
    "df = pd.read_csv('./csv/links.csv')"
   ]
  },
  {
   "cell_type": "code",
   "execution_count": null,
   "id": "9c7948e7-3706-4a40-b7d9-ecfd3d62d40f",
   "metadata": {},
   "outputs": [],
   "source": [
    "url = df['link'].tolist()"
   ]
  },
  {
   "cell_type": "code",
   "execution_count": null,
   "id": "9c32b184-f86a-4fe7-a204-9aefd2c131be",
   "metadata": {},
   "outputs": [],
   "source": [
    "outpath = (df['ID'] + '.wav').tolist()"
   ]
  },
  {
   "cell_type": "code",
   "execution_count": null,
   "id": "43ba5db5-b01e-439b-a8e4-bd529871a824",
   "metadata": {},
   "outputs": [],
   "source": [
    "print(url[:2])\n",
    "print(outpath[:2])"
   ]
  },
  {
   "cell_type": "code",
   "execution_count": null,
   "id": "4c0d1528-239c-4bff-99df-c69811ac1115",
   "metadata": {},
   "outputs": [],
   "source": [
    "import bom1.bom1 as bom1\n",
    "import bom1.wakeword as wf"
   ]
  },
  {
   "cell_type": "code",
   "execution_count": null,
   "id": "2db59ac2-6808-4e34-a5d3-dba4e85650b4",
   "metadata": {},
   "outputs": [],
   "source": [
    "train, val, test = wf.get_balanced_splits(balance='1:1', seed=42, splits = ['train'])"
   ]
  },
  {
   "cell_type": "code",
   "execution_count": null,
   "id": "1dbaeabb-4a4d-49f1-8b0a-6aa25920ad22",
   "metadata": {},
   "outputs": [],
   "source": [
    "bom1.download(['0_017ci9cj'], ['/work3/s164419/01005WakeWordData/lectures/bund.wav'], desc='Downloading lectures')"
   ]
  },
  {
   "cell_type": "code",
   "execution_count": null,
   "id": "9b96bf11-88b0-4522-831e-4ee4d2737c5f",
   "metadata": {},
   "outputs": [],
   "source": [
    "import pandas as pd\n",
    "\n",
    "df = pd.read_csv('./csv/links.csv')"
   ]
  },
  {
   "cell_type": "code",
   "execution_count": null,
   "id": "d5d88919-cb7b-4c5c-8f0c-b7ed7d682801",
   "metadata": {},
   "outputs": [],
   "source": [
    "link = df['link'].tolist()\n",
    "ID   = df['ID'].tolist()\n",
    "\n",
    "outpath = [f'/work3/s164419/01005WakeWordData/lectures/{x}.wav' for x in ID]"
   ]
  },
  {
   "cell_type": "code",
   "execution_count": null,
   "id": "f156ebc8-3ada-4f81-8ad4-d41a451b5e2a",
   "metadata": {},
   "outputs": [],
   "source": [
    "import bom1.bom1 as bom1"
   ]
  },
  {
   "cell_type": "code",
   "execution_count": null,
   "id": "80e10551-d1af-4a22-b546-0ca43b2ea591",
   "metadata": {},
   "outputs": [],
   "source": [
    "bom1.stream_link('0_0awr6vwy')"
   ]
  },
  {
   "cell_type": "code",
   "execution_count": null,
   "id": "c717e587-b1d3-4f46-8631-106e7020e789",
   "metadata": {},
   "outputs": [],
   "source": [
    "import bom1.wakeword as wf\n",
    "_, _, train = wf.get_splits()"
   ]
  },
  {
   "cell_type": "code",
   "execution_count": null,
   "id": "c5ae6acd-5f64-4f4a-8473-8c7d48131129",
   "metadata": {},
   "outputs": [],
   "source": [
    "bom1.stream_link(train['ID'].unique()[5])"
   ]
  },
  {
   "cell_type": "code",
   "execution_count": null,
   "id": "5154f563-a53c-470e-9c02-465f13c98635",
   "metadata": {},
   "outputs": [],
   "source": []
  },
  {
   "cell_type": "markdown",
   "id": "51af774a-b958-4b66-8337-030a8c0caef0",
   "metadata": {},
   "source": [
    "# Problem with torchaudio.load and durations"
   ]
  },
  {
   "cell_type": "markdown",
   "id": "f9236be5-6392-424a-ba94-c346b2fec1f6",
   "metadata": {},
   "source": [
    "For some reason, the durations we get from torchaudio.load don't match the ones on the video. Pretty weird."
   ]
  },
  {
   "cell_type": "code",
   "execution_count": null,
   "id": "713596aa-5e25-447c-8143-538d7f20c191",
   "metadata": {},
   "outputs": [],
   "source": [
    "import numpy as np\n",
    "import pandas as pd\n",
    "\n",
    "import bom1.bom1 as bom1\n",
    "import bom1.wakeword as wf\n",
    "\n",
    "import torch\n",
    "import torchaudio\n",
    "import torchaudio.transforms as T\n",
    "import os\n",
    "\n",
    "import IPython.display as ipd"
   ]
  },
  {
   "cell_type": "code",
   "execution_count": null,
   "id": "0c3df887-2401-47e2-acc1-05843f8ebcb0",
   "metadata": {},
   "outputs": [],
   "source": [
    "durations = wf.lecture_durations()"
   ]
  },
  {
   "cell_type": "code",
   "execution_count": null,
   "id": "2fd69583-edff-41db-b985-1520d7aebf2c",
   "metadata": {},
   "outputs": [],
   "source": [
    "diffs = {}\n",
    "for ID in durations.keys():\n",
    "    d = durations[ID]\n",
    "    \n",
    "    info = torchaudio.info(f'/work3/s164419/01005WakeWordData/lectures/{ID}.wav')\n",
    "\n",
    "    d2 = info.num_frames / info.sample_rate\n",
    "    \n",
    "    diffs[ID] = np.abs(d2-d)\n",
    "    \n",
    "    \n",
    "diffs = pd.DataFrame(diffs, index=[0]).T\n",
    "\n",
    "diffs = diffs.reset_index()"
   ]
  },
  {
   "cell_type": "code",
   "execution_count": null,
   "id": "4b1c4b9b-dfc7-4343-bb97-19ceb5c7564a",
   "metadata": {},
   "outputs": [],
   "source": [
    "diffs.columns = ['ID', 'difference']"
   ]
  },
  {
   "cell_type": "code",
   "execution_count": null,
   "id": "c3d63d76-d956-4100-a27d-b81ea8c08bbe",
   "metadata": {},
   "outputs": [],
   "source": [
    "diffs = diffs.sort_values(by='difference', ascending=False)"
   ]
  },
  {
   "cell_type": "code",
   "execution_count": null,
   "id": "500098cd-5afb-4bad-9215-f6e5898eae92",
   "metadata": {},
   "outputs": [],
   "source": [
    "\n",
    "np.sum(diffs['difference'] > 0.05)"
   ]
  },
  {
   "cell_type": "code",
   "execution_count": null,
   "id": "5b921e99-de16-4678-a7bb-5481f8abd3b9",
   "metadata": {},
   "outputs": [],
   "source": [
    "halfclip = 1\n",
    "\n",
    "links = pd.read_csv('./csv/links.csv')\n",
    "data  = pd.read_csv('./csv/data.csv')\n",
    "\n",
    "data['t1'] = data['t'] - halfclip\n",
    "data['t2'] = data['t'] + halfclip\n",
    "data.drop('t', axis=1, inplace=True)\n",
    "\n",
    "counts = pd.merge(links[['semester', 'title', 'ID']],\n",
    "              data.groupby(['semester', 'ID']).size().reset_index(name='n'),\n",
    "              how='inner',\n",
    "              on=['semester', 'ID'])\n",
    "\n",
    "counts['percentage'] = counts['n'].cumsum() / counts['n'].sum()"
   ]
  },
  {
   "cell_type": "code",
   "execution_count": null,
   "id": "4247c9d7-c557-4f19-b6ae-26a2624ac9f4",
   "metadata": {},
   "outputs": [],
   "source": [
    "durations = wf.lecture_durations()"
   ]
  },
  {
   "cell_type": "code",
   "execution_count": null,
   "id": "37f9d06a-5006-4d0f-ba62-ce9ba9141716",
   "metadata": {},
   "outputs": [],
   "source": []
  },
  {
   "cell_type": "code",
   "execution_count": null,
   "id": "2dcbad2e-505a-4752-8f4c-37ea5e5ec7f3",
   "metadata": {},
   "outputs": [],
   "source": [
    "def d(ID):\n",
    "    info = torchaudio.info(f'/work3/s164419/01005WakeWordData/lectures/{ID}.wav')\n",
    "    return info.num_frames / info.sample_rate"
   ]
  },
  {
   "cell_type": "code",
   "execution_count": null,
   "id": "b050bfed-d0e8-4c54-a3e1-a0219ac66692",
   "metadata": {},
   "outputs": [],
   "source": [
    "counts['d1'] = counts['ID'].apply(lambda x : durations[x])\n",
    "counts['d2'] = counts['ID'].apply(lambda x : d(x))\n",
    "\n",
    "counts.loc[np.abs(counts['d2'] - counts['d1']) < 1]"
   ]
  },
  {
   "cell_type": "code",
   "execution_count": 1,
   "id": "4330f9dd-889a-49a2-9d4f-dd997db82504",
   "metadata": {},
   "outputs": [],
   "source": [
    "import os"
   ]
  },
  {
   "cell_type": "code",
   "execution_count": 4,
   "id": "19fa7ead-ba9a-4bc6-9933-daac99a1eedb",
   "metadata": {},
   "outputs": [
    {
     "data": {
      "text/plain": [
       "1442276"
      ]
     },
     "execution_count": 4,
     "metadata": {},
     "output_type": "execute_result"
    }
   ],
   "source": [
    "len(os.listdir('/work3/s164419/01005WakeWordData/every50_1s/train/'))"
   ]
  }
 ],
 "metadata": {
  "kernelspec": {
   "display_name": "Python 3 (ipykernel)",
   "language": "python",
   "name": "python3"
  },
  "language_info": {
   "codemirror_mode": {
    "name": "ipython",
    "version": 3
   },
   "file_extension": ".py",
   "mimetype": "text/x-python",
   "name": "python",
   "nbconvert_exporter": "python",
   "pygments_lexer": "ipython3",
   "version": "3.8.4"
  }
 },
 "nbformat": 4,
 "nbformat_minor": 5
}
